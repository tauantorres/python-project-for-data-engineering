{
 "cells": [
  {
   "cell_type": "markdown",
   "metadata": {},
   "source": [
    "# Accessing Databases using Python Script\n",
    "---\n",
    "\n",
    "Using databases is an important and useful method of sharing information. To preserve repeated storage of the same files containing the required data, it is a good practice to save the said data on a database on a server and access the required subset of information using database management systems.\n",
    "\n",
    "In this lab, you'll learn how to create a database, load data from a CSV file as a table, and then run queries on the data using Python.\n",
    "\n",
    "# Objectives\n",
    "---\n",
    "\n",
    "In this lab you'll learn how to:\n",
    "\n",
    "1. Create a database using Python\n",
    "2. Load the data from a CSV file as a table to the database\n",
    "3. Run basic \"queries\" on the database to access the information\n",
    "\n",
    "# Scenario\n",
    "---\n",
    "\n",
    "Consider a dataset of employee records that is available with an HR team in a CSV file. As a Data Engineer, you are required to create the database called `STAFF` and load the contents of the CSV file as a table called `INSTRUCTORS`. The headers of the available data are:\n",
    "\n",
    "Header | Description\n",
    "--- | ---\n",
    "ID | Employee ID\n",
    "FNAME | First Name\n",
    "LNAME | Last Name\n",
    "CITY | City of residence\n",
    "CCODE | Country code (2 letters)\n"
   ]
  },
  {
   "cell_type": "markdown",
   "metadata": {},
   "source": [
    "# Database initiation\n",
    "---\n",
    "\n",
    "Let us first create a database using Python.\n",
    "\n",
    "Open `db_code.py` and import the `sqlite3` library using the below mentioned command.\n",
    "\n",
    "Import the `pandas` library in `db_code.py` using the following code.\n",
    "\n",
    "Now, you can use SQLite3 to create and connect your process to a new database `STAFF` using the following statements.\n"
   ]
  },
  {
   "cell_type": "code",
   "execution_count": 20,
   "metadata": {},
   "outputs": [],
   "source": [
    "import sqlite3\n",
    "import pandas as pd\n",
    "\n",
    "BASE_PATH = '../week-01/material/'\n",
    "\n",
    "db = BASE_PATH + 'STAFF.db'\n",
    "file_path = BASE_PATH + 'INSTRUCTOR.csv'\n"
   ]
  },
  {
   "cell_type": "code",
   "execution_count": 21,
   "metadata": {},
   "outputs": [],
   "source": [
    "conn = sqlite3.connect(database=db)\n"
   ]
  },
  {
   "cell_type": "markdown",
   "metadata": {},
   "source": [
    "# Create and Load the table\n",
    "---\n",
    "\n",
    "To create a table in the database, you first need to have the attributes of the required table. Attributes are columns of the table. Along with their names, the knowledge of their data types are also required. The attributes for the required tables in this lab were shared in the Lab Scenario.\n",
    "\n",
    "Add the following statements to `db_code.py` to feed the required table name and attribute details for the table.\n"
   ]
  },
  {
   "cell_type": "code",
   "execution_count": 22,
   "metadata": {},
   "outputs": [],
   "source": [
    "table_name = 'INSTRUCTOR'\n",
    "attribute_list = ['ID', 'FNAME', 'LNAME', 'CITY', 'CCODE']\n"
   ]
  },
  {
   "cell_type": "markdown",
   "metadata": {},
   "source": [
    "## Reading the CSV file\n",
    "---\n",
    "\n",
    "Now, to read the CSV using Pandas, you use the `read_csv()` function. Since this CSV does not contain headers, you can use the keys of the `attribute_dict` dictionary as a list to assign headers to the data. For this, add the commands below to `db_code.py`."
   ]
  },
  {
   "cell_type": "code",
   "execution_count": 23,
   "metadata": {},
   "outputs": [],
   "source": [
    "df = pd.read_csv(file_path, names = attribute_list)\n"
   ]
  },
  {
   "cell_type": "markdown",
   "metadata": {},
   "source": [
    "## Loading the data to a table\n",
    "---\n",
    "\n",
    "The `pandas` library provides easy loading of its dataframes directly to the database. For this, you may use the `to_sql()` method of the `dataframe` object.\n",
    "\n",
    "However, while you load the data for creating the table, you need to be careful if a table with the same name already exists in the database. If so, and it isn't required anymore, the tables should be replaced with the one you are loading here. You may also need to append some information to an existing table. For this purpose, `to_sql()` function uses the argument `if_exists`. The possible usage of `if_exists` is tabulated below.\n",
    "\n",
    "Argument usage | Description\n",
    "--- | ---\n",
    "`if_exists = 'fail'` | Default. The command doesn't work if a table with the same name exists in the database.\n",
    "`if_exists = 'replace'` | The command replaces the existing table in the database with the same name.\n",
    "`if_exists = 'append'` | The command appends the new data to the existing table with the same name.\n",
    "\n",
    "As you need to create a fresh table upon execution, add the following commands to the code. The print command is optional, but helps identify the completion of the steps of code until this point."
   ]
  },
  {
   "cell_type": "code",
   "execution_count": 24,
   "metadata": {},
   "outputs": [
    {
     "name": "stdout",
     "output_type": "stream",
     "text": [
      "Table is ready\n"
     ]
    }
   ],
   "source": [
    "df.to_sql(table_name, conn, if_exists = 'replace', index =False)\n",
    "print('Table is ready')\n"
   ]
  },
  {
   "cell_type": "markdown",
   "metadata": {},
   "source": [
    "# Running basic queries on data\n",
    "---\n",
    "\n",
    "Now that the data is uploaded to the table in the database, anyone with access to the database can retrieve this data by executing SQL queries.\n",
    "\n",
    "Some basic SQL queries to test this data are `SELECT` queries for viewing data, and `COUNT` query to count the number of entries.\n",
    "\n",
    "SQL queries can be executed on the data using the `read_sql` function in `pandas`.\n",
    "\n",
    "Now, run the following tasks for data retrieval on the created database.\n",
    "\n",
    "1. Viewing all the data in the table.\n",
    "\n",
    "Add the following lines of code to `db_code.py`\n"
   ]
  },
  {
   "cell_type": "code",
   "execution_count": 25,
   "metadata": {},
   "outputs": [
    {
     "name": "stdout",
     "output_type": "stream",
     "text": [
      "SELECT * FROM INSTRUCTOR\n",
      "    ID    FNAME      LNAME      CITY CCODE\n",
      "0    1      Rav      Ahuja   TORONTO    CA\n",
      "1    2     Raul      Chong   Markham    CA\n",
      "2    3     Hima  Vasudevan   Chicago    US\n",
      "3    4     John     Thomas  Illinois    US\n",
      "4    5    Alice      James  Illinois    US\n",
      "5    6    Steve      Wells  Illinois    US\n",
      "6    7  Santosh      Kumar  Illinois    US\n",
      "7    8    Ahmed    Hussain  Illinois    US\n",
      "8    9    Nancy      Allen  Illinois    US\n",
      "9   10     Mary     Thomas  Illinois    US\n",
      "10  11  Bharath      Gupta  Illinois    US\n",
      "11  12   Andrea      Jones  Illinois    US\n",
      "12  13      Ann      Jacob  Illinois    US\n",
      "13  14     Amit      Kumar  NewDelhi    IN\n"
     ]
    }
   ],
   "source": [
    "query_statement = f\"SELECT * FROM {table_name}\"\n",
    "query_output = pd.read_sql(query_statement, conn)\n",
    "\n",
    "print(query_statement)\n",
    "print(query_output)\n"
   ]
  },
  {
   "cell_type": "markdown",
   "metadata": {},
   "source": [
    "2. Viewing only FNAME column of data.\n",
    "\n",
    "Add the following lines of code to `db_code.py`"
   ]
  },
  {
   "cell_type": "code",
   "execution_count": 26,
   "metadata": {},
   "outputs": [
    {
     "name": "stdout",
     "output_type": "stream",
     "text": [
      "SELECT FNAME FROM INSTRUCTOR\n",
      "      FNAME\n",
      "0       Rav\n",
      "1      Raul\n",
      "2      Hima\n",
      "3      John\n",
      "4     Alice\n",
      "5     Steve\n",
      "6   Santosh\n",
      "7     Ahmed\n",
      "8     Nancy\n",
      "9      Mary\n",
      "10  Bharath\n",
      "11   Andrea\n",
      "12      Ann\n",
      "13     Amit\n"
     ]
    }
   ],
   "source": [
    "query_statement = f\"SELECT FNAME FROM {table_name}\"\n",
    "query_output = pd.read_sql(query_statement, conn)\n",
    "\n",
    "print(query_statement)\n",
    "print(query_output)\n"
   ]
  },
  {
   "cell_type": "markdown",
   "metadata": {},
   "source": [
    "3. Viewing the total number of entries in the table.\n",
    "\n",
    "Add the following lines of code to `db_code.py`"
   ]
  },
  {
   "cell_type": "code",
   "execution_count": 27,
   "metadata": {},
   "outputs": [
    {
     "name": "stdout",
     "output_type": "stream",
     "text": [
      "SELECT COUNT(*) FROM INSTRUCTOR\n",
      "   COUNT(*)\n",
      "0        14\n"
     ]
    }
   ],
   "source": [
    "query_statement = f\"SELECT COUNT(*) FROM {table_name}\"\n",
    "query_output = pd.read_sql(query_statement, conn)\n",
    "\n",
    "print(query_statement)\n",
    "print(query_output)"
   ]
  },
  {
   "cell_type": "markdown",
   "metadata": {},
   "source": [
    "Now try appending some data to the table. Consider the following.\n",
    "\n",
    "1. Assume the `ID` is `100`.\n",
    "2. Assume the first name, `FNAME`, is `John`.\n",
    "3. Assume the last name as `LNAME`, `Doe`.\n",
    "4. Assume the city of residence, `CITY` is `Paris`.\n",
    "5. Assume the country code, `CCODE` is `FR`.\n",
    "\n",
    "Use the following statements to create the dataframe of the new data."
   ]
  },
  {
   "cell_type": "code",
   "execution_count": 28,
   "metadata": {},
   "outputs": [],
   "source": [
    "data_dict = {'ID' : [100],\n",
    "            'FNAME' : ['John'],\n",
    "            'LNAME' : ['Doe'],\n",
    "            'CITY' : ['Paris'],\n",
    "            'CCODE' : ['FR']}\n",
    "data_append = pd.DataFrame(data_dict)\n"
   ]
  },
  {
   "cell_type": "markdown",
   "metadata": {},
   "source": [
    "Now use the following statement to append the data to the `INSTRUCTOR` table."
   ]
  },
  {
   "cell_type": "code",
   "execution_count": 29,
   "metadata": {},
   "outputs": [
    {
     "name": "stdout",
     "output_type": "stream",
     "text": [
      "Data appended successfully\n"
     ]
    }
   ],
   "source": [
    "data_append.to_sql(table_name, conn, if_exists = 'append', index =False)\n",
    "print('Data appended successfully')\n"
   ]
  },
  {
   "cell_type": "markdown",
   "metadata": {},
   "source": [
    "Now, repeat the `COUNT` query. You will observe an increase by 1 in the output of the first `COUNT` query and the second one.\n",
    "\n",
    "Before proceeding with the final execution, you need to add the command to close the connection to the database after all the queries are executed.\n",
    "\n",
    "Add the following line at the end of `db_code.py` to close the connection to the database.\n"
   ]
  },
  {
   "cell_type": "code",
   "execution_count": 30,
   "metadata": {},
   "outputs": [],
   "source": [
    "conn.close()\n"
   ]
  },
  {
   "cell_type": "markdown",
   "metadata": {},
   "source": [
    "# Practice Problems\n",
    "---\n",
    "\n",
    "Try the following practice problems to test your understanding of the lab. Please note that the solutions for the following are not shared, and the learners are encouraged to use the discussion forums in case they need help.\n",
    "\n",
    "1. In the same database STAFF, create another table called Departments. The attributes of the table are as shown below.\n",
    "\n",
    "Header | Description\n",
    "--- | ---\n",
    "DEPT_ID | Department ID\n",
    "DEP_NAME | Department Name\n",
    "MANAGER_ID | Manager ID\n",
    "LOC_ID | Location ID\n",
    "\n",
    "2. Populate the `Departments` table with the data available in the CSV file which can be downloaded from the link below using `wget`.\n",
    "\n",
    "    => Link: [click here](https://cf-courses-data.s3.us.cloud-object-storage.appdomain.cloud/IBMSkillsNetwork-PY0221EN-Coursera/labs/v2/Departments.csv)\n",
    "\n",
    "3. Append the `Departments` table with the following information.\n",
    "\n",
    "Attribute | Value\n",
    "--- | ---\n",
    "DEPT_ID | 9\n",
    "DEP_NAME | Quality Assurance\n",
    "MANAGER_ID | 30010\n",
    "LOC_ID | L0010\n",
    "\n",
    "5. Run the following queries on the `Departments` Table:\n",
    "    - View all entries\n",
    "    - View only the department names\n",
    "    - Count the total entries"
   ]
  },
  {
   "cell_type": "code",
   "execution_count": 7,
   "metadata": {},
   "outputs": [],
   "source": [
    "import sqlite3\n",
    "import pandas as pd\n",
    "\n",
    "BASE_PATH = '../week-01/material/'\n",
    "\n",
    "db = BASE_PATH + 'STAFF_SOLUTION.db'\n",
    "file_path = BASE_PATH + 'DEPARTMENTS.csv'\n"
   ]
  },
  {
   "cell_type": "code",
   "execution_count": 2,
   "metadata": {},
   "outputs": [],
   "source": [
    "conn = sqlite3.connect(database=db)\n"
   ]
  },
  {
   "cell_type": "code",
   "execution_count": 4,
   "metadata": {},
   "outputs": [],
   "source": [
    "table_name = 'DEPARTMENT'\n",
    "attribute_list = ['DEPT_ID', \n",
    "                  'DEP_NAME', \n",
    "                  'MANAGER_ID',\n",
    "                  'LOC_ID']\n"
   ]
  },
  {
   "cell_type": "code",
   "execution_count": 9,
   "metadata": {},
   "outputs": [],
   "source": [
    "df = pd.read_csv(file_path, names = attribute_list)\n"
   ]
  },
  {
   "cell_type": "code",
   "execution_count": 10,
   "metadata": {},
   "outputs": [
    {
     "name": "stdout",
     "output_type": "stream",
     "text": [
      "Table is ready\n"
     ]
    }
   ],
   "source": [
    "df.to_sql(table_name, conn, if_exists = 'replace', index =False)\n",
    "print('Table is ready')\n"
   ]
  },
  {
   "cell_type": "code",
   "execution_count": 12,
   "metadata": {},
   "outputs": [],
   "source": [
    "add_data = {\n",
    "    'DEPT_ID' : [9],\n",
    "    'DEP_NAME' : ['Quality Assurance'],\n",
    "    'MANAGER_ID' : [30010],\n",
    "    'LOC_ID' : ['L0010'],\n",
    "}\n",
    "\n",
    "data_append = pd.DataFrame(add_data)\n"
   ]
  },
  {
   "cell_type": "code",
   "execution_count": 13,
   "metadata": {},
   "outputs": [
    {
     "name": "stdout",
     "output_type": "stream",
     "text": [
      "Data appended successfully\n"
     ]
    }
   ],
   "source": [
    "data_append.to_sql(\n",
    "    table_name, \n",
    "    conn, \n",
    "    if_exists = 'append', \n",
    "    index =False\n",
    ")\n",
    "print('Data appended successfully')\n"
   ]
  },
  {
   "cell_type": "code",
   "execution_count": 14,
   "metadata": {},
   "outputs": [],
   "source": [
    "conn.close()\n"
   ]
  },
  {
   "cell_type": "code",
   "execution_count": null,
   "metadata": {},
   "outputs": [],
   "source": []
  }
 ],
 "metadata": {
  "kernelspec": {
   "display_name": ".venv",
   "language": "python",
   "name": "python3"
  },
  "language_info": {
   "codemirror_mode": {
    "name": "ipython",
    "version": 3
   },
   "file_extension": ".py",
   "mimetype": "text/x-python",
   "name": "python",
   "nbconvert_exporter": "python",
   "pygments_lexer": "ipython3",
   "version": "3.11.4"
  }
 },
 "nbformat": 4,
 "nbformat_minor": 2
}
